{
 "cells": [
  {
   "cell_type": "code",
   "execution_count": 9,
   "metadata": {},
   "outputs": [
    {
     "name": "stderr",
     "output_type": "stream",
     "text": [
      "Bioconductor version 3.7 (BiocInstaller 1.30.0), ?biocLite for help\n",
      "A newer version of Bioconductor is available for this version of R,\n",
      "  ?BiocUpgrade for help\n",
      "BioC_mirror: https://bioconductor.org\n",
      "Using Bioconductor 3.7 (BiocInstaller 1.30.0), R 3.5.1 (2018-07-02).\n",
      "Installing package(s) ‘affy’\n",
      "Updating HTML index of packages in '.Library'\n",
      "Making 'packages.html' ... done\n",
      "Old packages: 'caTools', 'dplyr', 'evaluate', 'forcats', 'forge', 'formatR',\n",
      "  'geometry', 'gower', 'haven', 'knitr', 'later', 'lava', 'lme4', 'maptools',\n",
      "  'Matrix', 'mgcv', 'modelr', 'mongolite', 'openssl', 'purrr', 'R6',\n",
      "  'RcppArmadillo', 'RCurl', 'readxl', 'repr', 'slam', 'sparklyr', 'stringi',\n",
      "  'stringr', 'sys', 'tidyr', 'xfun', 'XML', 'zip'\n"
     ]
    }
   ],
   "source": [
    "source(\"http://www.bioconductor.org/biocLite.R\")\n",
    "biocLite(\"affy\")\n",
    "library(affy)\n",
    "\n",
    "# Don't have to set this if Jupyter notebook in `src` directory\n",
    "#setwd(\"/Users/dominicanene/Google Drive/Northwestern/2018-2019/q2/bioinformatics/project/src\")\n",
    "\n",
    "# directory that holds raw files\n",
    "rawdata.dir <- \"../data/raw\"\n",
    "dir.alzheimer <- file.path(rawdata.dir,\"AH\")\n",
    "dir.cte <- file.path(rawdata.dir,\"CTE\")\n",
    "\n",
    "# directory that holds clean/processed files\n",
    "cleandata.dir <- \"../data/clean\"\n",
    "\n"
   ]
  },
  {
   "cell_type": "markdown",
   "metadata": {},
   "source": [
    "# alzheimer Dataset \n",
    "*\"Temporal relationships between cognitive aging and molecular changes in a critical brain region.\"* <br> <br>\n",
    "*link to paper ->* [AH Paper](https://www.ncbi.nlm.nih.gov/pmc/articles/PMC2661568/) <br>\n",
    "*link to data ->* [AH data](https://www.ncbi.nlm.nih.gov/geo/query/acc.cgi?acc=GSE9990) <br>\n",
    "\n",
    "\n",
    "\n",
    " *1 microarray per an animal* <br>\n",
    " *49 microarrays*\n",
    "\n",
    "| AH Data       |group1|group2|group3|group4|group5|         \n",
    "| ------------- |------|------|------|------|------|   \n",
    "| Number Rats   |  9   |    9 |  9   |  9   | 13   |\n",
    "| Age (Months)  |  3   | 6    |  9   |  12  | 23   |\n",
    "\n",
    " \n",
    "*Genes that changed with aging were assigned to one-of-four onset-age ranges based upon template. Evidence of cognitive impairment appeared in the 12-month-old group (midlife) and was increased further in the 23-month-old group.*\n",
    "\n",
    "| onset-age classes |early|intermediate|midlife| late | \n",
    "|-------------------|-----|------------|-------|------|\n",
    "| onset-age range   |3-6  |6-9         |9-13   | 12-23|     \n",
    "> So standard differential expression analysis between $M_t$ and $M_{t-1}$ to identify genes that change with aging? \n",
    "\n",
    "<br>\n",
    "\n",
    "**Cleaning method of authors**\n",
    "1.  Unique, annotated gene probe sets rated present on at least 6 chips in the study were retained for statistical analysis\n",
    "    - The presence call cutoff of 6 was chosen based on factorial analysis indicating that there was a < 5% probability that 6 presence calls would be found in a set of 49 chips by chance. \n",
    "    > Cool! we'll just take this for granted :)\n",
    "2. Outlier signal intensity (expression) data (> 2 SD from the group mean for each probe set in each age group) were treated as missing values\n",
    "> This is odd. Need to review rationale. \n",
    "3.  Genes that are left and differentially expressed between times t and t-1 (using False Discovery Rate) were designated \"Aging-Related Genes\""
   ]
  },
  {
   "cell_type": "markdown",
   "metadata": {},
   "source": [
    "**Below are maps between GEO ID Codes for microarray data sets and mneumonic names for the microarray datasets. For example `GSM252558` refers to the microarray that represents $9^{th}$ rat in the 23month age group.** "
   ]
  },
  {
   "cell_type": "code",
   "execution_count": 10,
   "metadata": {},
   "outputs": [],
   "source": [
    "ah.names.23Months = list(\"GSM252558\" = \"23Months_9\",\n",
    "                     \"GSM252557\" = \"23Months_8\",\n",
    "                     \"GSM252556\" = \"23Months_7\", \n",
    "                     \"GSM252555\" = \"23Months_6\", \n",
    "                     \"GSM252554\" = \"23Months_5\", \n",
    "                     \"GSM252553\" = \"23Months_4\", \n",
    "                     \"GSM252552\" = \"23Months_3\", \n",
    "                     \"GSM252551\" = \"23Months_15\", \n",
    "                     \"GSM252550\" = \"23Months_14\", \n",
    "                     \"GSM252549\" = \"23Months_13\", \n",
    "                     \"GSM252548\" = \"23Months_11\", \n",
    "                     \"GSM252547\" = \"23Months_10\", \n",
    "                     \"GSM252546\" = \"23Months_1\")\n",
    "\n",
    "ah.names.12Months = list(\"GSM252545\" = \"12Months_9\",\n",
    "                      \"GSM252544\" = \"12Months_8\",\n",
    "                      \"GSM252543\" = \"12Months_7\", \n",
    "                      \"GSM252542\" = \"12Months_6\", \n",
    "                      \"GSM252541\" = \"12Months_5\", \n",
    "                      \"GSM252540\" = \"12Months_4\", \n",
    "                      \"GSM252539\" = \"12Months_3\", \n",
    "                      \"GSM252538\" = \"12Months_2\", \n",
    "                      \"GSM252537\" = \"12Months_1\")\n",
    "\n",
    "ah.names.9Months = list(\"GSM252536\" = \"9Months_9\",\n",
    "                      \"GSM252535\" = \"9Months_8\",\n",
    "                      \"GSM252534\" = \"9Months_7\", \n",
    "                      \"GSM252533\" = \"9Months_6\", \n",
    "                      \"GSM252532\" = \"9Months_5\", \n",
    "                      \"GSM252531\" = \"9Months_4\", \n",
    "                      \"GSM252530\" = \"9Months_3\", \n",
    "                      \"GSM252529\" = \"9Months_2\", \n",
    "                      \"GSM252528\" = \"9Months_1\")\n",
    "\n",
    "ah.names.6Months = list(\"GSM252527\" = \"6Months_9\",\n",
    "                      \"GSM252526\" = \"6Months_8\",\n",
    "                      \"GSM252525\" = \"6Months_7\", \n",
    "                      \"GSM252524\" = \"6Months_6\", \n",
    "                      \"GSM252523\" = \"6Months_5\", \n",
    "                      \"GSM252522\" = \"6Months_4\", \n",
    "                      \"GSM252521\" = \"6Months_3\", \n",
    "                      \"GSM252520\" = \"6Months_2\", \n",
    "                      \"GSM252519\" = \"6Months_1\")\n",
    "\n",
    "ah.names.3Months = list(\"GSM252518\" = \"3Months_9\",\n",
    "                      \"GSM252517\" = \"3Months_8\",\n",
    "                      \"GSM252516\" = \"3Months_7\", \n",
    "                      \"GSM252515\" = \"3Months_6\", \n",
    "                      \"GSM252514\" = \"3Months_5\", \n",
    "                      \"GSM252513\" = \"3Months_4\", \n",
    "                      \"GSM252512\" = \"3Months_3\", \n",
    "                      \"GSM252511\" = \"3Months_2\", \n",
    "                      \"GSM252510\" = \"3Months_1\")"
   ]
  },
  {
   "cell_type": "markdown",
   "metadata": {},
   "source": [
    "# cte Dataset \n",
    "***Goal of study***: most of functional deficit from brain trauma are delayed. Goal is to identify potential molecular mechanisms underlying such delayed responses by compared gene expression patterns  at 4, 8, 24, and 72h after moderate levels of lateral fluid percussion–induced brain injury in rats\n",
    "\n",
    "***Relevance*** The condition known as mild traumatic brain injury is more commonly referred to by the term concussion. While a severe concussion will normally be referred to as a traumatic brain injury or TBI, normal concussions are referred to as being mild traumatic brain injuries (MTBI) due to the fact that a single injury of this type will not typically cause any serious long term health consequences. Several repeated mild traumatic brain injuries, however, may lead to the life-changing and potentially debilitating condition known as chronic traumatic encephalopathy (CTE). [REFERNCE](http://www.protectthebrain.org/Brain-Injury-Research/Mild-Traumatic-Brain-Injuries-MTBI-.aspx) <br> <br>\n",
    "***Note***: *CTE data set says the injured is \"moderate traumatic,\" this might be too severe, but I've checked and this seems to be the best dataset. So it worth adding a line about this in our final report.* <br>\n",
    "***Note***: *The paper and the abstract say that the longest duration of measurement is 72h, but actually the longest duration of the data is [21 days](https://www.ncbi.nlm.nih.gov/sites/GDSbrowser?acc=GDS2851)!*  Also the paper says that there are 4 time points, but actually there are 6 time periods in the data! <br>\n",
    "***Problem:*** *What are the ages of CTE rats? This could be important since AH dataset defined wholly by age and we are comparing the two*\n",
    "\n",
    "***The Data***\n",
    "- Injured rats: At each time point 3 rats were injured (4h, 8h, 24h, and 72h)\n",
    "- Sham rats: *subjected to surgery but not injured*\n",
    "    - four rats at the 4h time point \n",
    "    - two rats at {8h, 24h, and 72h}\n",
    "- Naive rats: 3 aged matched rats present throughout the study and unharmed. \n",
    "\n",
    "At predetermined times after surgery (4, 8, 24, and 72 h) sham and injured were decapitated. \n",
    "\n",
    "***Filtering & Analysis***\n",
    "- presence cutoff being probe sets that were detected in 40% or more of the microarrays\n",
    "> This cutoff more stringent then AH dataset. AH had cutoff of atleast 6 chips, hence probe sets detected in atleast 12% of micro arrays included.  \n",
    "> ***We will need a rational for whatever method we choose!***\n",
    "\n",
    "- Normalization: For each probe set, signal\n",
    "intensity from injured and sham controls were normalized to the mean signal intensity generated from the same\n",
    "cortical region from three naive rats\n",
    "> So use the naive rats to control for the effects of surgery. For our purposes we only focus on injured dataset to match the analysis in AH (since AH has no control). Do this by shifting injured datasets to be centered around naive rats means. <br> ¿Then normalize and get expressions using rma().?\n",
    "\n",
    "\n",
    "*link to paper ->* [CTE Paper](https://www.researchgate.net/profile/Ibolja_Cernak/publication/9032663_Gene_Expression_Profile_Changes_Are_Commonly_Modulated_across_Models_and_Species_after_Traumatic_Brain_Injury/links/09e415016e266e9c68000000/Gene-Expression-Profile-Changes-Are-Commonly-Modulated-across-Models-and-Species-after-Traumatic-Brain-Injury.pdf?origin=publication_detail) <br>\n",
    "*link to data ->* [CTE data: Splash page](https://www.ncbi.nlm.nih.gov/sites/GDSbrowser?acc=GDS2851) <br>\n",
    "*link to data ->* [CTE data: Description](https://www.ncbi.nlm.nih.gov/geo/query/acc.cgi?acc=GSE2392) <br>\n",
    "*link to data ->* [CTE data: Actual Download page](https://www.ncbi.nlm.nih.gov/geo/download/?acc=GDS2851) <br>"
   ]
  },
  {
   "cell_type": "markdown",
   "metadata": {},
   "source": [
    "**Below are maps between GEO ID Codes for microarray data sets and mneumonic names for the microarray datasets. For example `GSM44667` refers to the microarray that represents the rat identified by 2bA-s2, who is injured, and measured 4h after injury, `JMR-RatInj4h-2bA-s2`**"
   ]
  },
  {
   "cell_type": "code",
   "execution_count": 11,
   "metadata": {},
   "outputs": [],
   "source": [
    "cte.names.30m = list(\"GSM44533\" = \"JMR-RatInj30m-5aA-s2\",\n",
    "                     \"GSM44500\" =  \"JMR-RatInj30m-1aA-s2\",\n",
    "                     \"GSM44492\" = \"JMR-RatInj30m-3aA-s2\",\n",
    "                     \"GSM44480\" = \"JMR-RatInj30m-4aA-s2\",\n",
    "                     \"GSM44473\" = \"JMR-RatInj30m-2aA-s2\")\n",
    "\n",
    "cte.names.4h = list(\"GSM44667\" = \"JMR-RatInj4h-2bA-s2\",\n",
    "                    \"GSM44498\" = \"JMR-RatInj4h-3bA-s2\",\n",
    "                    \"GSM44466\" = \"JMR-RatInj4h-1bA-s2\")\n",
    "                    \n",
    "cte.names.8h = list(\"GSM44532\" = \"JMR-RatInj8h-1aA-s2\", \n",
    "                    \"GSM44531\" = \"JMR-RatInj8h-2aA-s2\",\n",
    "                    \"GSM44491\" = \"JMR-RatInj8h-3aA-s2\")\n",
    "                                        \n",
    "cte.names.24h = list(\"GSM44493\" = \"JMR-RatInj24hf-2aA-s2\",\n",
    "                     \"GSM44482\" = \"JMR-RatInj24hf-3aA-s2\",\n",
    "                     \"GSM44477\" =  \"JMR-RatInj24hf-1aA-s2\")\n",
    "                                         \n",
    "cte.names.72h = list(\"GSM44549\" = \"JMR-RatInj72h-3aA-s2\",\n",
    "                     \"GSM44520\" = \"JMR-RatInj72h-1aA-s2\",\n",
    "                     \"GSM44484\" = \"JMR-RatInj72h-2aA-s2\")\n",
    "                            \n",
    "cte.names.21d = list(\"GSM44497\" = \"JMR-RatInj21d-1bA-s2\",\n",
    "                     \"GSM44481\" = \"JMR-RatInj21d-2aA-s2\", \n",
    "                     \"GSM44471\" = \"JMR-RatInj21d-3aA-s2\")\n",
    "\n",
    "cte.naive.names = list(\"GSM44513\" = \"JMR-RatNaive-1cA-s2\",  \n",
    "                       \"GSM44496\" = \"JMR-RatNaive-2cA-s2\",\n",
    "                       \"GSM44478\" = \"JMR-RatNaive-3bA-s2\")\n",
    "\n",
    "#To be complete include names below but the sham dataset will not be used in analyis\n",
    "cte.sham.names.30m = list(\"GSM44509\" = \"JMR-RatSham30m-3aA-s2\",\n",
    "                          \"GSM44494\"= \"JMR-RatSham30m-1aA-s2\",\n",
    "                          \"GSM44489\" = \"JMR-RatSham30m-2aA-s2\",\n",
    "                            \"GSM44488\" = \"JMR-RatSham30m-4aA-s2\")\n",
    "    \n",
    "cte.sham.names.4h = list(\"GSM44529\" = \"JMR-RatSham4h-3aA-s2\",\n",
    "                         \"GSM44528\" = \"JMR-RatSham4h-4aA-s2\",\n",
    "                          \"GSM44511\" = \"JMR-RatSham4h-1aA-s2\", \n",
    "                         \"GSM44486\" = \"JMR-RatSham4h-2aA-s2\")\n",
    "                         \n",
    "cte.sham.names.8h = list(\"GSM44530\" = \"JMR-RatSham8h-1aA-s2\",\n",
    "                         \"GSM44467\" = \"JMR-RatSham8h-2aA-s2\",\n",
    "                         \"GSM44467\" = \"JMR-RatSham8h-2aA-s2\")\n",
    "                         \n",
    "cte.sham.names.24h = list(\"GSM44508\" = \"JMR-RatSham24hf-2aA-s2\",\n",
    "                          \"GSM44490\" = \"JMR-RatSham24hf-1aA-s2\",\n",
    "                          \"GSM44490\" = \"JMR-RatSham24hf-1aA-s2\")\n",
    "                          \n",
    "cte.sham.names.72h = list(\"GSM44485\" = \"JMR-RatSham72h-2aA-s2\", \n",
    "                          \"GSM44483\" = \"JMR-RatSham72h-1aA-s2\")\n",
    "                          \n",
    "cte.sham.names.21d = list(\"GSM44507\" = \"JMR-Sham21d-1aA-s2\",\n",
    "                          \"GSM44495\" = \"JMR-Sham21d-2aA-s2\")"
   ]
  },
  {
   "cell_type": "code",
   "execution_count": 13,
   "metadata": {},
   "outputs": [],
   "source": [
    "library(purrr)\n",
    "\n",
    "#column names: Convert into a named vector\n",
    "ah.colnames <- c(unlist(ah.names.3Months),\n",
    "                 unlist(ah.names.6Months),\n",
    "                 unlist(ah.names.9Months),\n",
    "                 unlist(ah.names.12Months),\n",
    "                 unlist(ah.names.23Months))\n",
    "\n",
    "cte.colnames <- c(unlist(cte.names.30m),\n",
    "                 unlist(cte.names.4h),\n",
    "                 unlist(cte.names.8h),\n",
    "                 unlist(cte.names.24h),\n",
    "                 unlist(cte.names.72h),\n",
    "                 unlist(cte.names.21d))\n",
    "\n",
    "cte.naive.colnames<-unlist(cte.naive.names)\n",
    "\n",
    "#Get raw CEL files names\n",
    "fnames.ah <- map_chr(names(ah.colnames), (function(fn) (paste(fn,\".CEL.gz\",sep=\"\"))))\n",
    "fnames.cte <- map_chr(names(cte.colnames), (function(fn) (paste(fn,\".CEL.gz\",sep=\"\"))))\n",
    "fnames.naive.cte <- map_chr(names(cte.naive.colnames), (function(fn) (paste(fn,\".CEL.gz\",sep=\"\"))))\n",
    "\n",
    "#Load Affymetrix data                                                         \n",
    "pcraw.ah<- ReadAffy(filenames=fnames.ah,celfile.path=dir.alzheimer)\n",
    "pcraw.cte<- ReadAffy(filenames=fnames.cte,celfile.path=dir.cte)\n",
    "pcraw.naive.cte<-ReadAffy(filenames=fnames.naive.cte,celfile.path=dir.cte)                                               \n",
    "\n",
    "sampleNames(pcraw.ah) <-ah.colnames\n",
    "sampleNames(pcraw.cte) <-cte.colnames\n",
    "sampleNames(pcraw.naive.cte) <-cte.naive.colnames"
   ]
  },
  {
   "cell_type": "markdown",
   "metadata": {},
   "source": [
    "### Filtering the genes\n",
    "*Both AH & CTE have \"presence call cutoff\" filter*  <br>\n",
    "**AH paper**\n",
    "> Unique, annotated gene probe sets rated present on at least 6 chips in the study were retained for statistical analysis. (pg 4, section: Statistics) \n",
    " \n",
    "**CTE paper**\n",
    "> We based all further analysis only on those probe sets that were detected in 40% or more of the microarrays comprising the complete microarray series for each experimental model (pg 5, section: Data Filtering and Statistical Analysis) \n",
    "\n",
    "\n",
    "The term \"presence call\" is from lecture 2 (slide 6), to calculate we create the discriminant score $$R = \\frac{PM-MM}{PM+MM}$$\n",
    "When $R = 0$ the gene is not present, and so we want to test the hypothesis:\n",
    "\\begin{align*}&H_0: E(R) = 0 \\\\ &H_a: E(R) \\neq 0 .\\end{align*} To do this we apply the Wilcoxson's signed rank test for each probe set. Then we keep the genes that are detected in at least 40% of the microarrays. The test will at the 95% confidence level. <br> <br>\n",
    "\n",
    "**Procedure**\n",
    "1. Keep genes in at least 40% of microarrays using Wilcoxon signed rank-based gene expression presence/absence detection algorithm. `mas5calls`\n",
    "1. Normalize\n",
    "    - AH: log transform and then quantile normalization\n",
    "    - CTE: log transform, subtract naive means, and then quantile normalization\n",
    "2. Get expressions using Robust Multi-Array (RMA)\n"
   ]
  },
  {
   "cell_type": "markdown",
   "metadata": {},
   "source": [
    "**Cleaning AH**"
   ]
  },
  {
   "cell_type": "code",
   "execution_count": 25,
   "metadata": {},
   "outputs": [
    {
     "name": "stdout",
     "output_type": "stream",
     "text": [
      "Getting probe level data...\n",
      "Computing p-values\n",
      "Making P/M/A Calls\n",
      "Background correcting\n",
      "Normalizing\n",
      "Calculating Expression\n"
     ]
    }
   ],
   "source": [
    "# Present, Absent, Marginal Intensity Measurment\n",
    "ah.pma<- mas5calls(pcraw.ah)\n",
    "ah.pma<- exprs(ah.pma) # \"P\", \"M\" or \"A\" representing a call of present, marginal or absent;\n",
    "ah.pma = ah.pma == \"P\"| ah.pma == \"M\" # Boolean matrix: 1 = Present or Marginal, 0 = Absent\n",
    "ah.pma = rowSums(ah.pma) # Get total number of Present or Marginal for a gene\n",
    "ah.pma.Idx = which(ah.pma >= length(ah.colnames)*.5) #Get indices of genes present in >= 40% of arrays\n",
    "\n",
    "#Robust Micro Array Avg w/ Quantile Normalization and log scaling. \n",
    "ah.ExprDta <-rma(pcraw.ah)\n",
    "alzheimer.dta<-exprs(ah.ExprDta)\n",
    "alzheimer.dta <- alzheimer.dta[ah.pma.Idx,] #filter for sig genes. \n",
    "\n",
    "#Save data\n",
    "write.table(alzheimer.dta, file = file.path(cleandata.dir,\"alzheimer.txt\"), sep = \"\\t\", row.names = TRUE,col.names =TRUE)\n"
   ]
  },
  {
   "cell_type": "markdown",
   "metadata": {},
   "source": [
    "**Cleaning CTE**"
   ]
  },
  {
   "cell_type": "code",
   "execution_count": 24,
   "metadata": {},
   "outputs": [
    {
     "name": "stdout",
     "output_type": "stream",
     "text": [
      "Getting probe level data...\n",
      "Computing p-values\n",
      "Making P/M/A Calls\n",
      "Background correcting\n",
      "Normalizing\n",
      "Calculating Expression\n"
     ]
    }
   ],
   "source": [
    "# Present, Absent, Marginal Intensity Measurment\n",
    "cte.pma<- mas5calls(pcraw.cte)\n",
    "cte.pma<- exprs(cte.pma) \n",
    "cte.pma = cte.pma == \"P\"| cte.pma == \"M\" \n",
    "cte.pma = rowSums(cte.pma) \n",
    "cte.pma.Idx = which(cte.pma >= length(cte.colnames)*.5) \n",
    "\n",
    "# Subtract the means of naive \n",
    "exprs(pcraw.cte)<-exprs(pcraw.cte) - rowMeans(exprs(pcraw.naive.cte)) #RMA uses PM, but demeaning the actual expressions to be safe\n",
    "pm(pcraw.cte)<-pm(pcraw.cte) - rowMeans(pm(pcraw.naive.cte)) \n",
    "mm(pcraw.cte)<-mm(pcraw.cte) - rowMeans(mm(pcraw.naive.cte)) \n",
    "\n",
    "#Robust Micro Array Avg w/ Quantile Normalization and log scaling. \n",
    "cte.ExprDta <-rma(pcraw.cte)\n",
    "cte.dta<-exprs(cte.ExprDta)\n",
    "cte.dta <- cte.dta[cte.pma.Idx,] \n",
    "\n",
    "#Save data\n",
    "write.table(cte.dta, file = file.path(cleandata.dir,\"cte.txt\"), sep = \"\\t\", row.names = TRUE,col.names =TRUE)"
   ]
  },
  {
   "cell_type": "markdown",
   "metadata": {},
   "source": [
    "### Things to possibly add/change\n",
    " - 40% intensity call cutoff -> need rational\n",
    " - Subtracting mean of naive rats from cte -> correct? \n",
    " - Add -> Outlier signal intensity (expression) data (> 2 SD from the group mean for each probe set in each age group) were treated as missing values. **This is from AH Data description section**\n",
    " - Might want to add graphs like from hw2? to see effects of normalization and demeaning\n",
    " \n",
    "One odd things... if you subtract naive means in CTE (`CTE:line 2-4`) after you filter out sign genes (`CTE: line 6-11`) then the significant genes for CTE is way down compared to AH! After seeing this I switched the order but need rational of why this happens. "
   ]
  },
  {
   "cell_type": "code",
   "execution_count": 26,
   "metadata": {},
   "outputs": [
    {
     "name": "stdout",
     "output_type": "stream",
     "text": [
      "[1] \"Num of sig genes for CTE 6898\"\n",
      "[1] \"Num of sig genes for AH 10963\"\n"
     ]
    }
   ],
   "source": [
    "print(paste(\"Num of sig genes for CTE\",length(cte.pma.Idx)))\n",
    "print(paste(\"Num of sig genes for AH\",length(ah.pma.Idx)))"
   ]
  },
  {
   "cell_type": "markdown",
   "metadata": {},
   "source": [
    "Need a way to get the number of genes to be managable."
   ]
  }
 ],
 "metadata": {
  "kernelspec": {
   "display_name": "R",
   "language": "R",
   "name": "ir"
  },
  "language_info": {
   "codemirror_mode": "r",
   "file_extension": ".r",
   "mimetype": "text/x-r-source",
   "name": "R",
   "pygments_lexer": "r",
   "version": "3.5.1"
  }
 },
 "nbformat": 4,
 "nbformat_minor": 2
}
